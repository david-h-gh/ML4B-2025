{
 "cells": [
  {
   "cell_type": "code",
   "execution_count": 1,
   "id": "079ce977",
   "metadata": {},
   "outputs": [],
   "source": [
    "import os\n",
    "import numpy as np\n",
    "import pandas as pd\n",
    "import matplotlib.pyplot as plt\n",
    "import seaborn as sns\n",
    "\n",
    "import warnings\n",
    "warnings.filterwarnings('ignore')"
   ]
  },
  {
   "cell_type": "code",
   "execution_count": 2,
   "id": "738721b1",
   "metadata": {},
   "outputs": [],
   "source": [
    "train_dir = 'input/train'\n",
    "test_dir = 'input/test'"
   ]
  },
  {
   "cell_type": "code",
   "execution_count": 3,
   "id": "fb43ffeb",
   "metadata": {},
   "outputs": [
    {
     "data": {
      "text/plain": [
       "(10222, 10357)"
      ]
     },
     "execution_count": 3,
     "metadata": {},
     "output_type": "execute_result"
    }
   ],
   "source": [
    "train_size = len(os.listdir('input/train'))\n",
    "test_size = len(os.listdir('input/test'))\n",
    "\n",
    "train_size,test_size"
   ]
  },
  {
   "cell_type": "code",
   "execution_count": 4,
   "id": "c946dbbe",
   "metadata": {},
   "outputs": [
    {
     "data": {
      "text/html": [
       "<div>\n",
       "<style scoped>\n",
       "    .dataframe tbody tr th:only-of-type {\n",
       "        vertical-align: middle;\n",
       "    }\n",
       "\n",
       "    .dataframe tbody tr th {\n",
       "        vertical-align: top;\n",
       "    }\n",
       "\n",
       "    .dataframe thead th {\n",
       "        text-align: right;\n",
       "    }\n",
       "</style>\n",
       "<table border=\"1\" class=\"dataframe\">\n",
       "  <thead>\n",
       "    <tr style=\"text-align: right;\">\n",
       "      <th></th>\n",
       "      <th>id</th>\n",
       "      <th>breed</th>\n",
       "    </tr>\n",
       "  </thead>\n",
       "  <tbody>\n",
       "    <tr>\n",
       "      <th>0</th>\n",
       "      <td>000bec180eb18c7604dcecc8fe0dba07</td>\n",
       "      <td>boston_bull</td>\n",
       "    </tr>\n",
       "    <tr>\n",
       "      <th>1</th>\n",
       "      <td>001513dfcb2ffafc82cccf4d8bbaba97</td>\n",
       "      <td>dingo</td>\n",
       "    </tr>\n",
       "    <tr>\n",
       "      <th>2</th>\n",
       "      <td>001cdf01b096e06d78e9e5112d419397</td>\n",
       "      <td>pekinese</td>\n",
       "    </tr>\n",
       "    <tr>\n",
       "      <th>3</th>\n",
       "      <td>00214f311d5d2247d5dfe4fe24b2303d</td>\n",
       "      <td>bluetick</td>\n",
       "    </tr>\n",
       "    <tr>\n",
       "      <th>4</th>\n",
       "      <td>0021f9ceb3235effd7fcde7f7538ed62</td>\n",
       "      <td>golden_retriever</td>\n",
       "    </tr>\n",
       "  </tbody>\n",
       "</table>\n",
       "</div>"
      ],
      "text/plain": [
       "                                 id             breed\n",
       "0  000bec180eb18c7604dcecc8fe0dba07       boston_bull\n",
       "1  001513dfcb2ffafc82cccf4d8bbaba97             dingo\n",
       "2  001cdf01b096e06d78e9e5112d419397          pekinese\n",
       "3  00214f311d5d2247d5dfe4fe24b2303d          bluetick\n",
       "4  0021f9ceb3235effd7fcde7f7538ed62  golden_retriever"
      ]
     },
     "execution_count": 4,
     "metadata": {},
     "output_type": "execute_result"
    }
   ],
   "source": [
    "df = pd.read_csv('labels.csv')\n",
    "df.head()"
   ]
  },
  {
   "cell_type": "code",
   "execution_count": 5,
   "id": "9dd8e928",
   "metadata": {},
   "outputs": [
    {
     "name": "stdout",
     "output_type": "stream",
     "text": [
      "120\n"
     ]
    },
    {
     "data": {
      "text/plain": [
       "['affenpinscher',\n",
       " 'afghan_hound',\n",
       " 'african_hunting_dog',\n",
       " 'airedale',\n",
       " 'american_staffordshire_terrier',\n",
       " 'appenzeller',\n",
       " 'australian_terrier',\n",
       " 'basenji',\n",
       " 'basset',\n",
       " 'beagle',\n",
       " 'bedlington_terrier',\n",
       " 'bernese_mountain_dog',\n",
       " 'black-and-tan_coonhound',\n",
       " 'blenheim_spaniel',\n",
       " 'bloodhound',\n",
       " 'bluetick',\n",
       " 'border_collie',\n",
       " 'border_terrier',\n",
       " 'borzoi',\n",
       " 'boston_bull',\n",
       " 'bouvier_des_flandres',\n",
       " 'boxer',\n",
       " 'brabancon_griffon',\n",
       " 'briard',\n",
       " 'brittany_spaniel',\n",
       " 'bull_mastiff',\n",
       " 'cairn',\n",
       " 'cardigan',\n",
       " 'chesapeake_bay_retriever',\n",
       " 'chihuahua',\n",
       " 'chow',\n",
       " 'clumber',\n",
       " 'cocker_spaniel',\n",
       " 'collie',\n",
       " 'curly-coated_retriever',\n",
       " 'dandie_dinmont',\n",
       " 'dhole',\n",
       " 'dingo',\n",
       " 'doberman',\n",
       " 'english_foxhound',\n",
       " 'english_setter',\n",
       " 'english_springer',\n",
       " 'entlebucher',\n",
       " 'eskimo_dog',\n",
       " 'flat-coated_retriever',\n",
       " 'french_bulldog',\n",
       " 'german_shepherd',\n",
       " 'german_short-haired_pointer',\n",
       " 'giant_schnauzer',\n",
       " 'golden_retriever',\n",
       " 'gordon_setter',\n",
       " 'great_dane',\n",
       " 'great_pyrenees',\n",
       " 'greater_swiss_mountain_dog',\n",
       " 'groenendael',\n",
       " 'ibizan_hound',\n",
       " 'irish_setter',\n",
       " 'irish_terrier',\n",
       " 'irish_water_spaniel',\n",
       " 'irish_wolfhound',\n",
       " 'italian_greyhound',\n",
       " 'japanese_spaniel',\n",
       " 'keeshond',\n",
       " 'kelpie',\n",
       " 'kerry_blue_terrier',\n",
       " 'komondor',\n",
       " 'kuvasz',\n",
       " 'labrador_retriever',\n",
       " 'lakeland_terrier',\n",
       " 'leonberg',\n",
       " 'lhasa',\n",
       " 'malamute',\n",
       " 'malinois',\n",
       " 'maltese_dog',\n",
       " 'mexican_hairless',\n",
       " 'miniature_pinscher',\n",
       " 'miniature_poodle',\n",
       " 'miniature_schnauzer',\n",
       " 'newfoundland',\n",
       " 'norfolk_terrier',\n",
       " 'norwegian_elkhound',\n",
       " 'norwich_terrier',\n",
       " 'old_english_sheepdog',\n",
       " 'otterhound',\n",
       " 'papillon',\n",
       " 'pekinese',\n",
       " 'pembroke',\n",
       " 'pomeranian',\n",
       " 'pug',\n",
       " 'redbone',\n",
       " 'rhodesian_ridgeback',\n",
       " 'rottweiler',\n",
       " 'saint_bernard',\n",
       " 'saluki',\n",
       " 'samoyed',\n",
       " 'schipperke',\n",
       " 'scotch_terrier',\n",
       " 'scottish_deerhound',\n",
       " 'sealyham_terrier',\n",
       " 'shetland_sheepdog',\n",
       " 'shih-tzu',\n",
       " 'siberian_husky',\n",
       " 'silky_terrier',\n",
       " 'soft-coated_wheaten_terrier',\n",
       " 'staffordshire_bullterrier',\n",
       " 'standard_poodle',\n",
       " 'standard_schnauzer',\n",
       " 'sussex_spaniel',\n",
       " 'tibetan_mastiff',\n",
       " 'tibetan_terrier',\n",
       " 'toy_poodle',\n",
       " 'toy_terrier',\n",
       " 'vizsla',\n",
       " 'walker_hound',\n",
       " 'weimaraner',\n",
       " 'welsh_springer_spaniel',\n",
       " 'west_highland_white_terrier',\n",
       " 'whippet',\n",
       " 'wire-haired_fox_terrier',\n",
       " 'yorkshire_terrier']"
      ]
     },
     "execution_count": 5,
     "metadata": {},
     "output_type": "execute_result"
    }
   ],
   "source": [
    "#Extracting different classes\n",
    "dog_breeds = sorted(df['breed'].unique())\n",
    "n_classes = len(dog_breeds)\n",
    "print(n_classes)\n",
    "dog_breeds"
   ]
  },
  {
   "cell_type": "code",
   "execution_count": 6,
   "id": "d0e514fc",
   "metadata": {},
   "outputs": [],
   "source": [
    "#Converting classes to numbers\n",
    "class_to_num = dict(zip(dog_breeds,range(n_classes)))"
   ]
  }
 ],
 "metadata": {
  "kernelspec": {
   "display_name": ".venv",
   "language": "python",
   "name": "python3"
  },
  "language_info": {
   "codemirror_mode": {
    "name": "ipython",
    "version": 3
   },
   "file_extension": ".py",
   "mimetype": "text/x-python",
   "name": "python",
   "nbconvert_exporter": "python",
   "pygments_lexer": "ipython3",
   "version": "3.12.9"
  }
 },
 "nbformat": 4,
 "nbformat_minor": 5
}
